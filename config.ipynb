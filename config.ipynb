{
 "cells": [
  {
   "cell_type": "code",
   "execution_count": 1,
   "id": "b73ee695",
   "metadata": {},
   "outputs": [],
   "source": [
    "weather_api_key=\"083b633c248158602076499e3d8d7201\""
   ]
  }
 ],
 "metadata": {
  "interpreter": {
   "hash": "623d9cc3d01eba700c4b6765ac9ff01d3130136bc07591b254bda7d080bd930e"
  },
  "kernelspec": {
   "display_name": "PythonData",
   "language": "python",
   "name": "python3"
  },
  "language_info": {
   "codemirror_mode": {
    "name": "ipython",
    "version": 3
   },
   "file_extension": ".py",
   "mimetype": "text/x-python",
   "name": "python",
   "nbconvert_exporter": "python",
   "pygments_lexer": "ipython3",
   "version": "3.9.7"
  }
 },
 "nbformat": 4,
 "nbformat_minor": 5
}
